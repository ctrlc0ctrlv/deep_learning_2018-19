{
  "nbformat": 4,
  "nbformat_minor": 0,
  "metadata": {
    "hide_input": false,
    "kernelspec": {
      "display_name": "Python 3",
      "language": "python",
      "name": "python3"
    },
    "language_info": {
      "codemirror_mode": {
        "name": "ipython",
        "version": 3
      },
      "file_extension": ".py",
      "mimetype": "text/x-python",
      "name": "python",
      "nbconvert_exporter": "python",
      "pygments_lexer": "ipython3",
      "version": "3.6.8"
    },
    "varInspector": {
      "cols": {
        "lenName": 16,
        "lenType": 16,
        "lenVar": 40
      },
      "kernels_config": {
        "python": {
          "delete_cmd_postfix": "",
          "delete_cmd_prefix": "del ",
          "library": "var_list.py",
          "varRefreshCmd": "print(var_dic_list())"
        },
        "r": {
          "delete_cmd_postfix": ") ",
          "delete_cmd_prefix": "rm(",
          "library": "var_list.r",
          "varRefreshCmd": "cat(var_dic_list()) "
        }
      },
      "types_to_exclude": [
        "module",
        "function",
        "builtin_function_or_method",
        "instance",
        "_Feature"
      ],
      "window_display": false
    },
    "colab": {
      "name": "[homework]pytorch_basics.ipynb",
      "provenance": [],
      "collapsed_sections": [],
      "include_colab_link": true
    }
  },
  "cells": [
    {
      "cell_type": "markdown",
      "metadata": {
        "id": "view-in-github",
        "colab_type": "text"
      },
      "source": [
        "<a href=\"https://colab.research.google.com/github/ctrlc0ctrlv/deep_learning_2018-19/blob/master/%5Bhomework%5Dpytorch_basics.ipynb\" target=\"_parent\"><img src=\"https://colab.research.google.com/assets/colab-badge.svg\" alt=\"Open In Colab\"/></a>"
      ]
    },
    {
      "cell_type": "markdown",
      "metadata": {
        "id": "wscvRoo_Y2bp",
        "colab_type": "text"
      },
      "source": [
        "<p style=\"align: center;\"><img align=center src=\"https://s8.hostingkartinok.com/uploads/images/2018/08/308b49fcfbc619d629fe4604bceb67ac.jpg\"  width=400></p>\n",
        "\n",
        "<h3 style=\"text-align: center;\"><b>Физтех-Школа Прикладной математики и информатики (ФПМИ) МФТИ</b></h3>"
      ]
    },
    {
      "cell_type": "code",
      "metadata": {
        "id": "Lg09ve27Y2br",
        "colab_type": "code",
        "colab": {}
      },
      "source": [
        "from matplotlib import pyplot as plt\n",
        "import numpy as np\n",
        "from sklearn import datasets\n",
        "from sklearn.model_selection import train_test_split\n",
        "import torch"
      ],
      "execution_count": 0,
      "outputs": []
    },
    {
      "cell_type": "markdown",
      "metadata": {
        "id": "Gbpu-GrgY2bv",
        "colab_type": "text"
      },
      "source": [
        "### 1. Нахождение сложной производной"
      ]
    },
    {
      "cell_type": "markdown",
      "metadata": {
        "id": "GZKVcvtTY2bw",
        "colab_type": "text"
      },
      "source": [
        "Найдите производную по x от функции \n",
        "$$\\sin\\left(\\tan(x)\\frac{x^2}{y} + \\ln(e^{-x^2 + 3}+x^3y)\\right)\\tan(x^2e^{x^9})$$\n",
        "\n",
        "При этом надо пользоваться встроенным в PyTorch autograd. Численное вычисление производной может не дать нужный результат."
      ]
    },
    {
      "cell_type": "code",
      "metadata": {
        "id": "ihvUiIDQY2bx",
        "colab_type": "code",
        "colab": {
          "base_uri": "https://localhost:8080/",
          "height": 34
        },
        "outputId": "cbddac7c-fe8b-442d-ea76-10ae54c79c69"
      },
      "source": [
        "def find_x_derivative(x, y):\n",
        "    x = torch.tensor([x], dtype = float, requires_grad=True)\n",
        "    y = torch.tensor([y], dtype = float, requires_grad=False)\n",
        "\n",
        "    f = torch.sin( torch.sin(x) / torch.cos(x) * x **2 / y + torch.log( torch.exp(-1 * x ** 2 + 3) + x ** 3 * y)) * torch.sin( x ** 2 * torch.exp(x ** 9)) / torch.cos(x ** 2 * torch.exp(x ** 9))\n",
        "    f.backward()\n",
        "\n",
        "    return x.grad\n",
        "\n",
        "print(find_x_derivative(1, 21))"
      ],
      "execution_count": 50,
      "outputs": [
        {
          "output_type": "stream",
          "text": [
            "tensor([-9.0207], dtype=torch.float64)\n"
          ],
          "name": "stdout"
        }
      ]
    },
    {
      "cell_type": "markdown",
      "metadata": {
        "collapsed": true,
        "id": "mNbn5UzGY2b0",
        "colab_type": "text"
      },
      "source": [
        "# 2. Нахождение косинусной близости\n",
        "\n",
        "Вам даны две матрицы A и B. Необходимо посчитать косинусную близость между строчками матрицы A и столбцами матрицы B. Ответ - матрица чисел, где номер строки - номер строки из матрицы А, а номер столбца - номер столбца из В, от которых бралась косинусная близость.\n",
        "\n",
        "Напомним, что косинусная близость двух векторов - косинус угла между ними. В n-мерном пространстве косинус угла между веткорами удобнее всего через скалярное произведение:\n",
        "$$\\cos(angle(x, y)) = \\frac{x \\cdot y}{\\left\\|x\\right\\| \\left\\|y\\right\\|}$$\n",
        "\n",
        "(Наша операция очень похожа на умножение матриц)"
      ]
    },
    {
      "cell_type": "code",
      "metadata": {
        "id": "9r2uiysQY2b1",
        "colab_type": "code",
        "colab": {
          "base_uri": "https://localhost:8080/",
          "height": 34
        },
        "outputId": "7d969467-6467-41e4-de96-517d01e83a0f"
      },
      "source": [
        "def get_cos_sim(A, B):\n",
        "    A = torch.tensor(A, dtype = float)\n",
        "    B = torch.tensor(B, dtype = float)\n",
        "\n",
        "    norm_a = torch.norm(A, dim = 1, keepdim=True)\n",
        "    norm_b = torch.norm(B, dim = 0, keepdim=True)\n",
        "\n",
        "    return A @ B / (norm_a * norm_b)\n",
        "\n",
        "A = [[1, -47, 25, -3], [10, 17, -15, 22], [-3, -7, 26, 36], [12, -27, -42, 0]]\n",
        "B = [[-50, -13, 1, 10, 1242], [21, 48, -13, -14, -20], [20, 15, 11, 43, 11], [11, 103, 147, 27, -8]]\n",
        "torch.mean(get_cos_sim(A, B))"
      ],
      "execution_count": 57,
      "outputs": [
        {
          "output_type": "execute_result",
          "data": {
            "text/plain": [
              "tensor(0.1498, dtype=torch.float64)"
            ]
          },
          "metadata": {
            "tags": []
          },
          "execution_count": 57
        }
      ]
    },
    {
      "cell_type": "markdown",
      "metadata": {
        "id": "BR_2JtdtY2b4",
        "colab_type": "text"
      },
      "source": [
        "# 3. Линейная регрессия\n",
        "\n",
        "Раньше мы самостоятельно считали производные, чтобы находить веса линейной регрессии с помощью градиентного спуска. Теперь нам нужно использовать для этого PyTorch и его autograd. \n",
        "\n",
        "**Важно**: на самом деле .backward не обновляет содержимое матриц с производными (some_tensor.grad), а прибавляет к ним только что посчитаные значения проивзодных. Это значит, что вызвав .backward дважды, вы получите удвоенную производную. Так как мы обновляем веса в цикле и много раз вызываем .backward, то очень быстро мы получим мусор в some_tensor.grad, если не будем его каждый раз обнулять. Таким образом, в конц итериации после использования производных обнулите значения в матрице производных для всех нужных Вам переменных. Делается это вот так \n",
        "> some\\_tensor.grad.data.zero_()"
      ]
    },
    {
      "cell_type": "code",
      "metadata": {
        "id": "XbuGEdgBY2b5",
        "colab_type": "code",
        "colab": {}
      },
      "source": [
        "class LinearRegression:\n",
        "    def get_loss(self, preds, y):\n",
        "        \"\"\"\n",
        "            @param preds: предсказания модели\n",
        "            @param y: истиные значения\n",
        "            @return mse: значение MSE на переданных данных\n",
        "        \"\"\"\n",
        "        # возьмите средний квадрат ошибки по всем выходным переменным\n",
        "        # то есть сумму квадратов ошибки надо поделить на количество_элементов * количество_таргетов\n",
        "        diff = y - preds\n",
        "        mse = torch.sum(diff**2) / diff.numel()\n",
        "        return mse\n",
        "    \n",
        "    def init_weights(self, input_size, output_size):\n",
        "        \"\"\"\n",
        "            Инициализирует параметры модели\n",
        "            W - матрица размерности (input_size, output_size)\n",
        "            инициализируется рандомными числами из\n",
        "            uniform распределения (torch.rand())\n",
        "            b - вектор размерности (1, output_size)\n",
        "            инициализируется нулями\n",
        "        \"\"\"\n",
        "        torch.manual_seed(0) #необходимо для воспроизводимости результатов\n",
        "        self.W = torch.rand(input_size, output_size,  requires_grad=True)\n",
        "        self.b = torch.zeros(1, output_size, requires_grad=True)\n",
        "\n",
        "    def fit(self, X, y, num_epochs=1000, lr=0.001):\n",
        "        \"\"\"\n",
        "            Обучение модели линейной регрессии методом градиентного спуска\n",
        "            @param X: размерности (num_samples, input_shape)\n",
        "            @param y: размерности (num_samples, output_shape)\n",
        "            @param num_epochs: количество итераций градиентного спуска\n",
        "            @param lr: шаг градиентного спуска\n",
        "            @return metrics: вектор значений MSE на каждом шаге градиентного\n",
        "            спуска.\n",
        "        \"\"\"\n",
        "        self.init_weights(X.shape[1], y.shape[1])\n",
        "        metrics = []\n",
        "\n",
        "        lr = torch.tensor([lr], dtype = float)\n",
        "\n",
        "        for _ in range(num_epochs):\n",
        "            preds = self.predict(X)\n",
        "            # сделайте вычисления градиентов c помощью Pytorch и обновите веса\n",
        "            # осторожнее, оберните вычитание градиента в \n",
        "#                 with torch.no_grad():\n",
        "#                     #some code\n",
        "            # иначе во время прибавления градиента к переменной создастся очень много нод в дереве операций\n",
        "            # и ваши модели в будущем будут падать от нехватки памяти\n",
        "\n",
        "            loss = self.get_loss(preds, y)\n",
        "            loss.backward()\n",
        "\n",
        "            with torch.no_grad():\n",
        "                self.W -= self.W.grad * lr\n",
        "                self.b -= self.b.grad * lr\n",
        "                self.W.grad.zero_()\n",
        "                self.b.grad.zero_()\n",
        "            metrics.append(self.get_loss(preds, y).data)\n",
        "        return metrics\n",
        "\n",
        "    def predict(self, X):\n",
        "        \"\"\"\n",
        "            Думаю, тут все понятно. Сделайте свои предсказания :)\n",
        "        \"\"\"\n",
        "        return X @ self.W  + self.b"
      ],
      "execution_count": 0,
      "outputs": []
    },
    {
      "cell_type": "markdown",
      "metadata": {
        "id": "QQ8GJjFKaY6r",
        "colab_type": "text"
      },
      "source": [
        "1. Сгенерируйте данные с помощью make_regression с параметрами n_targets=3, n_features=2, noise=10, random_state=42. \n",
        "2. Обучите модель линейной регрессии, оставив в fit параметры num_epochs и lr по умолчанию (обратите внимание, что перед обучением нужно привести данные к типу, использующимся в torch) \n",
        "2. Посчитайте среднее значение метрики MSE по всем итерациям цикла в fit (массив из значений MSE на каждой итерации возвращается из метода fit). Ответом, который необходимо сдать в систему, будет число, округленное до 3х знаков после запятой."
      ]
    },
    {
      "cell_type": "code",
      "metadata": {
        "id": "zOVkSg_0Y2b8",
        "colab_type": "code",
        "colab": {
          "base_uri": "https://localhost:8080/",
          "height": 34
        },
        "outputId": "a13a83e2-4a3b-4fb0-ec69-8c4c3d9ed0f3"
      },
      "source": [
        "from sklearn import datasets\n",
        "X, Y = datasets.make_regression(n_targets=3, n_features=2, noise=10, random_state=42)\n",
        "X = torch.from_numpy(X).float()\n",
        "Y = torch.from_numpy(Y).float()\n",
        "\n",
        "model = LinearRegression()\n",
        "model.fit(X, Y)\n",
        "\n",
        "mse = model.fit(X, Y)"
      ],
      "execution_count": 83,
      "outputs": [
        {
          "output_type": "execute_result",
          "data": {
            "text/plain": [
              "'torch.FloatTensor'"
            ]
          },
          "metadata": {
            "tags": []
          },
          "execution_count": 83
        }
      ]
    },
    {
      "cell_type": "code",
      "metadata": {
        "id": "oMgiJA_Va6g_",
        "colab_type": "code",
        "colab": {
          "base_uri": "https://localhost:8080/",
          "height": 34
        },
        "outputId": "e396e42c-c089-4b67-afed-839678c40359"
      },
      "source": [
        "print(np.mean(mse))"
      ],
      "execution_count": 84,
      "outputs": [
        {
          "output_type": "stream",
          "text": [
            "4256.561\n"
          ],
          "name": "stdout"
        }
      ]
    },
    {
      "cell_type": "markdown",
      "metadata": {
        "id": "iJVuCWOxbACZ",
        "colab_type": "text"
      },
      "source": [
        "Здесь предлагаем протестировать метод predict удобным вам образом."
      ]
    },
    {
      "cell_type": "code",
      "metadata": {
        "id": "XF5Rw27ba-mj",
        "colab_type": "code",
        "colab": {}
      },
      "source": [
        "#YOUR CODE"
      ],
      "execution_count": 0,
      "outputs": []
    }
  ]
}