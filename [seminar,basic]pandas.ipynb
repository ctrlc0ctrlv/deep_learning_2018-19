{
  "nbformat": 4,
  "nbformat_minor": 0,
  "metadata": {
    "hide_input": false,
    "kernelspec": {
      "display_name": "Python 3",
      "language": "python",
      "name": "python3"
    },
    "language_info": {
      "codemirror_mode": {
        "name": "ipython",
        "version": 3
      },
      "file_extension": ".py",
      "mimetype": "text/x-python",
      "name": "python",
      "nbconvert_exporter": "python",
      "pygments_lexer": "ipython3",
      "version": "3.6.9"
    },
    "varInspector": {
      "cols": {
        "lenName": 16,
        "lenType": 16,
        "lenVar": 40
      },
      "kernels_config": {
        "python": {
          "delete_cmd_postfix": "",
          "delete_cmd_prefix": "del ",
          "library": "var_list.py",
          "varRefreshCmd": "print(var_dic_list())"
        },
        "r": {
          "delete_cmd_postfix": ") ",
          "delete_cmd_prefix": "rm(",
          "library": "var_list.r",
          "varRefreshCmd": "cat(var_dic_list()) "
        }
      },
      "types_to_exclude": [
        "module",
        "function",
        "builtin_function_or_method",
        "instance",
        "_Feature"
      ],
      "window_display": false
    },
    "colab": {
      "name": "[seminar,basic]pandas.ipynb",
      "provenance": [],
      "include_colab_link": true
    }
  },
  "cells": [
    {
      "cell_type": "markdown",
      "metadata": {
        "id": "view-in-github",
        "colab_type": "text"
      },
      "source": [
        "<a href=\"https://colab.research.google.com/github/ctrlc0ctrlv/deep_learning_2018-19/blob/master/%5Bseminar%2Cbasic%5Dpandas.ipynb\" target=\"_parent\"><img src=\"https://colab.research.google.com/assets/colab-badge.svg\" alt=\"Open In Colab\"/></a>"
      ]
    },
    {
      "cell_type": "markdown",
      "metadata": {
        "id": "hQGeES_Bj7m7",
        "colab_type": "text"
      },
      "source": [
        "<p style=\"align: center;\"><img align=center src=\"https://s8.hostingkartinok.com/uploads/images/2018/08/308b49fcfbc619d629fe4604bceb67ac.jpg\" width=500 height=450/></p>\n",
        "\n",
        "<h3 style=\"text-align: center;\"><b>\"Глубокое обучение\". Продвинутый поток</b></h3>\n",
        "\n",
        "<h2 style=\"text-align: center;\"><b>День 3. Библиотека <a href=\"http://pandas.pydata.org/\">pandas</a></b></h2>"
      ]
    },
    {
      "cell_type": "markdown",
      "metadata": {
        "id": "XtExfzvpj7m-",
        "colab_type": "text"
      },
      "source": [
        "Библиотека `pandas` активно используется в современном data science для работы с данными, которые могут быть представлены в виде таблиц (а это очень, очень большая часть данных)"
      ]
    },
    {
      "cell_type": "markdown",
      "metadata": {
        "id": "Lr-XPJGaj7m_",
        "colab_type": "text"
      },
      "source": [
        "`pandas` есть в пакете Anaconda, но если вдруг у Вас её по каким-то причинам нет, то можно установить, раскомментировав следующую команду:"
      ]
    },
    {
      "cell_type": "code",
      "metadata": {
        "id": "t8Xcstwyj7nB",
        "colab_type": "code",
        "colab": {}
      },
      "source": [
        "# !pip install numpy pandas"
      ],
      "execution_count": 0,
      "outputs": []
    },
    {
      "cell_type": "code",
      "metadata": {
        "id": "wHSirtxrj7nF",
        "colab_type": "code",
        "colab": {}
      },
      "source": [
        "import numpy as np\n",
        "import pandas as pd"
      ],
      "execution_count": 0,
      "outputs": []
    },
    {
      "cell_type": "markdown",
      "metadata": {
        "id": "lKWi-c2bj7nJ",
        "colab_type": "text"
      },
      "source": [
        "## pd.Series"
      ]
    },
    {
      "cell_type": "markdown",
      "metadata": {
        "id": "6iDgvr73j7nK",
        "colab_type": "text"
      },
      "source": [
        "Одномерный набор данных. Похож на `np.ndarray`, но с более расширенным функционалом"
      ]
    },
    {
      "cell_type": "code",
      "metadata": {
        "id": "84R6E_kTj7nL",
        "colab_type": "code",
        "colab": {}
      },
      "source": [
        "np.random.seed(42)"
      ],
      "execution_count": 0,
      "outputs": []
    },
    {
      "cell_type": "code",
      "metadata": {
        "id": "HR2Mk2Aij7nO",
        "colab_type": "code",
        "outputId": "bba7ac52-aa1c-4fbe-d5f1-62475e3afab1",
        "colab": {}
      },
      "source": [
        "np_array = np.random.randint(low=-15, high=20, size=4)\n",
        "np_array"
      ],
      "execution_count": 0,
      "outputs": [
        {
          "output_type": "execute_result",
          "data": {
            "text/plain": [
              "array([13, -1, -8,  5])"
            ]
          },
          "metadata": {
            "tags": []
          },
          "execution_count": 13
        }
      ]
    },
    {
      "cell_type": "code",
      "metadata": {
        "id": "rNrs6LEBj7nT",
        "colab_type": "code",
        "outputId": "0ccfe7b8-4b42-41a0-ea91-2d7ee88d8b8f",
        "colab": {}
      },
      "source": [
        "# Series можно сделать из массива\n",
        "pd_series_1 = pd.Series(np_array)\n",
        "pd_series_1"
      ],
      "execution_count": 0,
      "outputs": [
        {
          "output_type": "execute_result",
          "data": {
            "text/plain": [
              "0    13\n",
              "1    -1\n",
              "2    -8\n",
              "3     5\n",
              "dtype: int64"
            ]
          },
          "metadata": {
            "tags": []
          },
          "execution_count": 16
        }
      ]
    },
    {
      "cell_type": "code",
      "metadata": {
        "id": "hn_wf7Ghj7nX",
        "colab_type": "code",
        "outputId": "55faebd7-acb3-4f69-e345-1c4b35b0906d",
        "colab": {}
      },
      "source": [
        "# Так же можно аннотировать индексы, чтобы потом было более удобно обращаться к элементам\n",
        "pd_series_2 = pd.Series(np_array, index=['1st day', '2nd day', '3rd day', '4th day'])\n",
        "pd_series_2"
      ],
      "execution_count": 0,
      "outputs": [
        {
          "output_type": "execute_result",
          "data": {
            "text/plain": [
              "1st day    13\n",
              "2nd day    -1\n",
              "3rd day    -8\n",
              "4th day     5\n",
              "dtype: int64"
            ]
          },
          "metadata": {
            "tags": []
          },
          "execution_count": 18
        }
      ]
    },
    {
      "cell_type": "code",
      "metadata": {
        "id": "B2T5su9Ej7na",
        "colab_type": "code",
        "outputId": "0b04b0ff-29b9-4086-8b0b-d33442a7594f",
        "colab": {}
      },
      "source": [
        "pd_series_2['4th day']"
      ],
      "execution_count": 0,
      "outputs": [
        {
          "output_type": "execute_result",
          "data": {
            "text/plain": [
              "5"
            ]
          },
          "metadata": {
            "tags": []
          },
          "execution_count": 20
        }
      ]
    },
    {
      "cell_type": "code",
      "metadata": {
        "id": "BUNIs-mrj7nc",
        "colab_type": "code",
        "outputId": "5909804c-8a4f-4881-ec57-f4221e556ceb",
        "colab": {}
      },
      "source": [
        "# А еще можно дать pd.Series имя, чтобы было совсем красиво\n",
        "pd_series_3 = pd.Series(np_array, index=['1st day', '2nd day', '3rd day', '4th day'], name='Temperature')\n",
        "pd_series_3"
      ],
      "execution_count": 0,
      "outputs": [
        {
          "output_type": "execute_result",
          "data": {
            "text/plain": [
              "1st day    13\n",
              "2nd day    -1\n",
              "3rd day    -8\n",
              "4th day     5\n",
              "Name: Temperature, dtype: int64"
            ]
          },
          "metadata": {
            "tags": []
          },
          "execution_count": 21
        }
      ]
    },
    {
      "cell_type": "code",
      "metadata": {
        "id": "Oj5J47Ckj7ni",
        "colab_type": "code",
        "outputId": "8cff44b6-b7d5-45fa-9b58-1ff8f2a37785",
        "colab": {}
      },
      "source": [
        "# с индексами можно работать так же, как и в случае с обычным list\n",
        "print(pd_series_3[0])\n",
        "print('*'*5)\n",
        "print(pd_series_3[1:3])\n",
        "print('*'*5)\n",
        "print(pd_series_3[::-1])"
      ],
      "execution_count": 0,
      "outputs": [
        {
          "output_type": "stream",
          "text": [
            "13\n",
            "*****\n",
            "2nd day   -1\n",
            "3rd day   -8\n",
            "Name: Temperature, dtype: int64\n",
            "*****\n",
            "4th day     5\n",
            "3rd day    -8\n",
            "2nd day    -1\n",
            "1st day    13\n",
            "Name: Temperature, dtype: int64\n"
          ],
          "name": "stdout"
        }
      ]
    },
    {
      "cell_type": "markdown",
      "metadata": {
        "id": "RblwK03gj7nm",
        "colab_type": "text"
      },
      "source": [
        "`series` можно отсортировать как по значениям, так и по индексу"
      ]
    },
    {
      "cell_type": "code",
      "metadata": {
        "id": "0yUuN7pij7nn",
        "colab_type": "code",
        "outputId": "78630e65-226e-43bd-b181-c496a01d217b",
        "colab": {}
      },
      "source": [
        "pd_series_3.sort_index()"
      ],
      "execution_count": 0,
      "outputs": [
        {
          "output_type": "execute_result",
          "data": {
            "text/plain": [
              "1st day    13\n",
              "2nd day    -1\n",
              "3rd day    -8\n",
              "4th day     5\n",
              "Name: Temperature, dtype: int64"
            ]
          },
          "metadata": {
            "tags": []
          },
          "execution_count": 24
        }
      ]
    },
    {
      "cell_type": "code",
      "metadata": {
        "id": "s2bJuk39j7nr",
        "colab_type": "code",
        "outputId": "28b4e0ec-4722-40d4-89c3-d704c7d0817c",
        "colab": {}
      },
      "source": [
        "pd_series_3.sort_values()"
      ],
      "execution_count": 0,
      "outputs": [
        {
          "output_type": "execute_result",
          "data": {
            "text/plain": [
              "3rd day    -8\n",
              "2nd day    -1\n",
              "4th day     5\n",
              "1st day    13\n",
              "Name: Temperature, dtype: int64"
            ]
          },
          "metadata": {
            "tags": []
          },
          "execution_count": 25
        }
      ]
    },
    {
      "cell_type": "markdown",
      "metadata": {
        "id": "J43rYMoVj7nu",
        "colab_type": "text"
      },
      "source": [
        "с `series` можно работать как с `np.ndarray`"
      ]
    },
    {
      "cell_type": "code",
      "metadata": {
        "scrolled": true,
        "id": "iR6j0WNWj7nv",
        "colab_type": "code",
        "outputId": "a05deee7-f5b7-4569-96cb-e59f91d28654",
        "colab": {}
      },
      "source": [
        "pd_series_3 + 100"
      ],
      "execution_count": 0,
      "outputs": [
        {
          "output_type": "execute_result",
          "data": {
            "text/plain": [
              "1st day    113\n",
              "2nd day     99\n",
              "3rd day     92\n",
              "4th day    105\n",
              "Name: Temperature, dtype: int64"
            ]
          },
          "metadata": {
            "tags": []
          },
          "execution_count": 26
        }
      ]
    },
    {
      "cell_type": "code",
      "metadata": {
        "id": "CkbCt9U0j7nz",
        "colab_type": "code",
        "outputId": "4c02b29e-735c-473f-b13f-468bb58f5366",
        "colab": {}
      },
      "source": [
        "np.exp(pd_series_3)"
      ],
      "execution_count": 0,
      "outputs": [
        {
          "output_type": "execute_result",
          "data": {
            "text/plain": [
              "1st day    442413.392009\n",
              "2nd day         0.367879\n",
              "3rd day         0.000335\n",
              "4th day       148.413159\n",
              "Name: Temperature, dtype: float64"
            ]
          },
          "metadata": {
            "tags": []
          },
          "execution_count": 27
        }
      ]
    },
    {
      "cell_type": "code",
      "metadata": {
        "id": "dGEMS9Zsj7oY",
        "colab_type": "code",
        "outputId": "12a46867-1cca-4256-958e-5708faaa1d95",
        "colab": {}
      },
      "source": [
        "term_1 = pd.Series(np.random.randint(0, 10, 5))\n",
        "term_2 = pd.Series(np.random.randint(0, 10, 6))\n",
        "\n",
        "print('Term1:\\n{}\\n\\nTerm2:\\n{}\\n\\nSum:\\n{}'.format(term_1, term_2, term_1 + term_2))"
      ],
      "execution_count": 0,
      "outputs": [
        {
          "output_type": "stream",
          "text": [
            "Term1:\n",
            "0    6\n",
            "1    9\n",
            "2    2\n",
            "3    6\n",
            "4    7\n",
            "dtype: int64\n",
            "\n",
            "Term2:\n",
            "0    4\n",
            "1    3\n",
            "2    7\n",
            "3    7\n",
            "4    2\n",
            "5    5\n",
            "dtype: int64\n",
            "\n",
            "Sum:\n",
            "0    10.0\n",
            "1    12.0\n",
            "2     9.0\n",
            "3    13.0\n",
            "4     9.0\n",
            "5     NaN\n",
            "dtype: float64\n"
          ],
          "name": "stdout"
        }
      ]
    },
    {
      "cell_type": "code",
      "metadata": {
        "id": "Xruge_Hcj7ob",
        "colab_type": "code",
        "outputId": "a6f7a229-0bb5-4c86-95d1-b83c55a90ad6",
        "colab": {}
      },
      "source": [
        "term_1.shape"
      ],
      "execution_count": 0,
      "outputs": [
        {
          "output_type": "execute_result",
          "data": {
            "text/plain": [
              "(5,)"
            ]
          },
          "metadata": {
            "tags": []
          },
          "execution_count": 29
        }
      ]
    },
    {
      "cell_type": "code",
      "metadata": {
        "id": "PqGvSPCAj7od",
        "colab_type": "code",
        "outputId": "6d3435da-691a-4c4c-ecaf-9f4a317a52f3",
        "colab": {}
      },
      "source": [
        "date_range = pd.date_range('20190101', periods=10)\n",
        "pd_series_4 = pd.Series(np.random.rand(10), date_range)\n",
        "pd_series_4"
      ],
      "execution_count": 0,
      "outputs": [
        {
          "output_type": "execute_result",
          "data": {
            "text/plain": [
              "2019-01-01    0.399861\n",
              "2019-01-02    0.046666\n",
              "2019-01-03    0.973756\n",
              "2019-01-04    0.232771\n",
              "2019-01-05    0.090606\n",
              "2019-01-06    0.618386\n",
              "2019-01-07    0.382462\n",
              "2019-01-08    0.983231\n",
              "2019-01-09    0.466763\n",
              "2019-01-10    0.859940\n",
              "Freq: D, dtype: float64"
            ]
          },
          "metadata": {
            "tags": []
          },
          "execution_count": 31
        }
      ]
    },
    {
      "cell_type": "code",
      "metadata": {
        "id": "lykJPqDqj7of",
        "colab_type": "code",
        "outputId": "aebd7267-c6ef-44a7-f930-b580ef0f609e",
        "colab": {}
      },
      "source": [
        "pd_series_4 > 0.5"
      ],
      "execution_count": 0,
      "outputs": [
        {
          "output_type": "execute_result",
          "data": {
            "text/plain": [
              "2019-01-01    False\n",
              "2019-01-02    False\n",
              "2019-01-03     True\n",
              "2019-01-04    False\n",
              "2019-01-05    False\n",
              "2019-01-06     True\n",
              "2019-01-07    False\n",
              "2019-01-08     True\n",
              "2019-01-09    False\n",
              "2019-01-10     True\n",
              "Freq: D, dtype: bool"
            ]
          },
          "metadata": {
            "tags": []
          },
          "execution_count": 32
        }
      ]
    },
    {
      "cell_type": "markdown",
      "metadata": {
        "id": "IVyjzw2yj7oi",
        "colab_type": "text"
      },
      "source": [
        "в качестве индекса можно указать выражение, и нам будут возвращены только те элементы, для которых знвчение является `True`"
      ]
    },
    {
      "cell_type": "code",
      "metadata": {
        "id": "_wxQISycj7oi",
        "colab_type": "code",
        "outputId": "51583574-bebe-47dd-f71c-a16c4bb25c04",
        "colab": {}
      },
      "source": [
        "pd_series_4[pd_series_4 > 0.5]"
      ],
      "execution_count": 0,
      "outputs": [
        {
          "output_type": "execute_result",
          "data": {
            "text/plain": [
              "2019-01-03    0.973756\n",
              "2019-01-06    0.618386\n",
              "2019-01-08    0.983231\n",
              "2019-01-10    0.859940\n",
              "dtype: float64"
            ]
          },
          "metadata": {
            "tags": []
          },
          "execution_count": 33
        }
      ]
    },
    {
      "cell_type": "code",
      "metadata": {
        "id": "F3NGzeYJj7on",
        "colab_type": "code",
        "outputId": "bf2387c9-4a0f-4274-fef3-d8b75d88d842",
        "colab": {}
      },
      "source": [
        "pd_series_4[(pd_series_4 > 0.5) & (pd_series_4 < 0.6)]"
      ],
      "execution_count": 0,
      "outputs": [
        {
          "output_type": "execute_result",
          "data": {
            "text/plain": [
              "Series([], Freq: D, dtype: float64)"
            ]
          },
          "metadata": {
            "tags": []
          },
          "execution_count": 36
        }
      ]
    },
    {
      "cell_type": "code",
      "metadata": {
        "id": "lmD-tfAej7oq",
        "colab_type": "code",
        "outputId": "b93452ea-57fa-42cd-fe0f-f366d7bb0d19",
        "colab": {}
      },
      "source": [
        "pd_series_4[(pd_series_4 > 0.6) | (pd_series_4 < 0.2)]"
      ],
      "execution_count": 0,
      "outputs": [
        {
          "output_type": "execute_result",
          "data": {
            "text/plain": [
              "2019-01-02    0.046666\n",
              "2019-01-03    0.973756\n",
              "2019-01-05    0.090606\n",
              "2019-01-06    0.618386\n",
              "2019-01-08    0.983231\n",
              "2019-01-10    0.859940\n",
              "dtype: float64"
            ]
          },
          "metadata": {
            "tags": []
          },
          "execution_count": 37
        }
      ]
    },
    {
      "cell_type": "markdown",
      "metadata": {
        "id": "Y6pfi15-j7ot",
        "colab_type": "text"
      },
      "source": [
        "## DataFrame\n",
        "\n",
        "Двумерная таблица данных. Имеет индекс и набор столбцов (возможно, имеющих разные типы). Таблицу можно построить, например, из словаря, значениями в котором являются одномерные наборы данных."
      ]
    },
    {
      "cell_type": "code",
      "metadata": {
        "id": "_nN81Wy8j7ot",
        "colab_type": "code",
        "outputId": "56f45701-f1ed-4fb7-ad86-bc6dd678a823",
        "colab": {}
      },
      "source": [
        "# Dataframe можно составить из словаря. Ключ будет соответсовать колонке\n",
        "d={'one':pd.Series([1,2,3],index=['a','b','c']),\n",
        "   'two':pd.Series([1,2,3,4],index=['a','b','c','d'])}\n",
        "df=pd.DataFrame(d)\n",
        "df"
      ],
      "execution_count": 0,
      "outputs": [
        {
          "output_type": "execute_result",
          "data": {
            "text/html": [
              "<div>\n",
              "<style scoped>\n",
              "    .dataframe tbody tr th:only-of-type {\n",
              "        vertical-align: middle;\n",
              "    }\n",
              "\n",
              "    .dataframe tbody tr th {\n",
              "        vertical-align: top;\n",
              "    }\n",
              "\n",
              "    .dataframe thead th {\n",
              "        text-align: right;\n",
              "    }\n",
              "</style>\n",
              "<table border=\"1\" class=\"dataframe\">\n",
              "  <thead>\n",
              "    <tr style=\"text-align: right;\">\n",
              "      <th></th>\n",
              "      <th>one</th>\n",
              "      <th>two</th>\n",
              "    </tr>\n",
              "  </thead>\n",
              "  <tbody>\n",
              "    <tr>\n",
              "      <th>a</th>\n",
              "      <td>1.0</td>\n",
              "      <td>1</td>\n",
              "    </tr>\n",
              "    <tr>\n",
              "      <th>b</th>\n",
              "      <td>2.0</td>\n",
              "      <td>2</td>\n",
              "    </tr>\n",
              "    <tr>\n",
              "      <th>c</th>\n",
              "      <td>3.0</td>\n",
              "      <td>3</td>\n",
              "    </tr>\n",
              "    <tr>\n",
              "      <th>d</th>\n",
              "      <td>NaN</td>\n",
              "      <td>4</td>\n",
              "    </tr>\n",
              "  </tbody>\n",
              "</table>\n",
              "</div>"
            ],
            "text/plain": [
              "   one  two\n",
              "a  1.0    1\n",
              "b  2.0    2\n",
              "c  3.0    3\n",
              "d  NaN    4"
            ]
          },
          "metadata": {
            "tags": []
          },
          "execution_count": 38
        }
      ]
    },
    {
      "cell_type": "code",
      "metadata": {
        "id": "JgEJPzA7j7ow",
        "colab_type": "code",
        "outputId": "be69faa0-124c-431e-ea6c-95b91eea526d",
        "colab": {}
      },
      "source": [
        "df.index"
      ],
      "execution_count": 0,
      "outputs": [
        {
          "output_type": "execute_result",
          "data": {
            "text/plain": [
              "Index(['a', 'b', 'c', 'd'], dtype='object')"
            ]
          },
          "metadata": {
            "tags": []
          },
          "execution_count": 39
        }
      ]
    },
    {
      "cell_type": "code",
      "metadata": {
        "id": "E9BL-vC5j7oy",
        "colab_type": "code",
        "outputId": "8ed3ef4b-20e6-47bd-f1bd-20df494a637f",
        "colab": {}
      },
      "source": [
        "df.columns"
      ],
      "execution_count": 0,
      "outputs": [
        {
          "output_type": "execute_result",
          "data": {
            "text/plain": [
              "Index(['one', 'two'], dtype='object')"
            ]
          },
          "metadata": {
            "tags": []
          },
          "execution_count": 40
        }
      ]
    },
    {
      "cell_type": "code",
      "metadata": {
        "id": "nFtUnYzoj7o1",
        "colab_type": "code",
        "outputId": "171dc466-1177-485b-c753-ea00f251a5bf",
        "colab": {}
      },
      "source": [
        "df['one']['c']"
      ],
      "execution_count": 0,
      "outputs": [
        {
          "output_type": "execute_result",
          "data": {
            "text/plain": [
              "3.0"
            ]
          },
          "metadata": {
            "tags": []
          },
          "execution_count": 42
        }
      ]
    },
    {
      "cell_type": "code",
      "metadata": {
        "id": "UGuD1YBDj7o3",
        "colab_type": "code",
        "outputId": "82f6281b-36cc-40a4-e14c-9707eb9e5713",
        "colab": {}
      },
      "source": [
        "df.one"
      ],
      "execution_count": 0,
      "outputs": [
        {
          "output_type": "execute_result",
          "data": {
            "text/plain": [
              "a    1.0\n",
              "b    2.0\n",
              "c    3.0\n",
              "d    NaN\n",
              "Name: one, dtype: float64"
            ]
          },
          "metadata": {
            "tags": []
          },
          "execution_count": 43
        }
      ]
    },
    {
      "cell_type": "markdown",
      "metadata": {
        "id": "XGNONSwcj7o6",
        "colab_type": "text"
      },
      "source": [
        "Если указать диапазон индексов, то это означает диапазон строк. Причём **последняя строка включается в таблицу.**\n",
        "\n",
        "Диапазон целых чисел даёт диапазон строк с такими номерами, **не включая последнюю строку** (как обычно при индексировании списков). \n",
        "\n",
        "На это стоит обратить внимание"
      ]
    },
    {
      "cell_type": "code",
      "metadata": {
        "id": "7FX2igK-j7o7",
        "colab_type": "code",
        "outputId": "f38f8563-2af4-4091-b3ec-2e4e86922b12",
        "colab": {}
      },
      "source": [
        "df['b':'d']"
      ],
      "execution_count": 0,
      "outputs": [
        {
          "output_type": "execute_result",
          "data": {
            "text/html": [
              "<div>\n",
              "<style scoped>\n",
              "    .dataframe tbody tr th:only-of-type {\n",
              "        vertical-align: middle;\n",
              "    }\n",
              "\n",
              "    .dataframe tbody tr th {\n",
              "        vertical-align: top;\n",
              "    }\n",
              "\n",
              "    .dataframe thead th {\n",
              "        text-align: right;\n",
              "    }\n",
              "</style>\n",
              "<table border=\"1\" class=\"dataframe\">\n",
              "  <thead>\n",
              "    <tr style=\"text-align: right;\">\n",
              "      <th></th>\n",
              "      <th>one</th>\n",
              "      <th>two</th>\n",
              "    </tr>\n",
              "  </thead>\n",
              "  <tbody>\n",
              "    <tr>\n",
              "      <th>b</th>\n",
              "      <td>2.0</td>\n",
              "      <td>2</td>\n",
              "    </tr>\n",
              "    <tr>\n",
              "      <th>c</th>\n",
              "      <td>3.0</td>\n",
              "      <td>3</td>\n",
              "    </tr>\n",
              "    <tr>\n",
              "      <th>d</th>\n",
              "      <td>NaN</td>\n",
              "      <td>4</td>\n",
              "    </tr>\n",
              "  </tbody>\n",
              "</table>\n",
              "</div>"
            ],
            "text/plain": [
              "   one  two\n",
              "b  2.0    2\n",
              "c  3.0    3\n",
              "d  NaN    4"
            ]
          },
          "metadata": {
            "tags": []
          },
          "execution_count": 44
        }
      ]
    },
    {
      "cell_type": "code",
      "metadata": {
        "id": "0Y1xL0mMj7o-",
        "colab_type": "code",
        "outputId": "3c3544d1-8827-4f57-eb8c-16c6058fc822",
        "colab": {}
      },
      "source": [
        "df[3:1:-1]"
      ],
      "execution_count": 0,
      "outputs": [
        {
          "output_type": "execute_result",
          "data": {
            "text/html": [
              "<div>\n",
              "<style scoped>\n",
              "    .dataframe tbody tr th:only-of-type {\n",
              "        vertical-align: middle;\n",
              "    }\n",
              "\n",
              "    .dataframe tbody tr th {\n",
              "        vertical-align: top;\n",
              "    }\n",
              "\n",
              "    .dataframe thead th {\n",
              "        text-align: right;\n",
              "    }\n",
              "</style>\n",
              "<table border=\"1\" class=\"dataframe\">\n",
              "  <thead>\n",
              "    <tr style=\"text-align: right;\">\n",
              "      <th></th>\n",
              "      <th>one</th>\n",
              "      <th>two</th>\n",
              "    </tr>\n",
              "  </thead>\n",
              "  <tbody>\n",
              "    <tr>\n",
              "      <th>d</th>\n",
              "      <td>NaN</td>\n",
              "      <td>4</td>\n",
              "    </tr>\n",
              "    <tr>\n",
              "      <th>c</th>\n",
              "      <td>3.0</td>\n",
              "      <td>3</td>\n",
              "    </tr>\n",
              "  </tbody>\n",
              "</table>\n",
              "</div>"
            ],
            "text/plain": [
              "   one  two\n",
              "d  NaN    4\n",
              "c  3.0    3"
            ]
          },
          "metadata": {
            "tags": []
          },
          "execution_count": 46
        }
      ]
    },
    {
      "cell_type": "code",
      "metadata": {
        "id": "HGaSBNIMj7pB",
        "colab_type": "code",
        "outputId": "0c86b8e1-6a57-49b6-d07f-18d20247a47c",
        "colab": {}
      },
      "source": [
        "df['three'] = df['one'] * df['two']\n",
        "df"
      ],
      "execution_count": 0,
      "outputs": [
        {
          "output_type": "execute_result",
          "data": {
            "text/html": [
              "<div>\n",
              "<style scoped>\n",
              "    .dataframe tbody tr th:only-of-type {\n",
              "        vertical-align: middle;\n",
              "    }\n",
              "\n",
              "    .dataframe tbody tr th {\n",
              "        vertical-align: top;\n",
              "    }\n",
              "\n",
              "    .dataframe thead th {\n",
              "        text-align: right;\n",
              "    }\n",
              "</style>\n",
              "<table border=\"1\" class=\"dataframe\">\n",
              "  <thead>\n",
              "    <tr style=\"text-align: right;\">\n",
              "      <th></th>\n",
              "      <th>one</th>\n",
              "      <th>two</th>\n",
              "      <th>three</th>\n",
              "    </tr>\n",
              "  </thead>\n",
              "  <tbody>\n",
              "    <tr>\n",
              "      <th>a</th>\n",
              "      <td>1.0</td>\n",
              "      <td>1</td>\n",
              "      <td>1.0</td>\n",
              "    </tr>\n",
              "    <tr>\n",
              "      <th>b</th>\n",
              "      <td>2.0</td>\n",
              "      <td>2</td>\n",
              "      <td>4.0</td>\n",
              "    </tr>\n",
              "    <tr>\n",
              "      <th>c</th>\n",
              "      <td>3.0</td>\n",
              "      <td>3</td>\n",
              "      <td>9.0</td>\n",
              "    </tr>\n",
              "    <tr>\n",
              "      <th>d</th>\n",
              "      <td>NaN</td>\n",
              "      <td>4</td>\n",
              "      <td>NaN</td>\n",
              "    </tr>\n",
              "  </tbody>\n",
              "</table>\n",
              "</div>"
            ],
            "text/plain": [
              "   one  two  three\n",
              "a  1.0    1    1.0\n",
              "b  2.0    2    4.0\n",
              "c  3.0    3    9.0\n",
              "d  NaN    4    NaN"
            ]
          },
          "metadata": {
            "tags": []
          },
          "execution_count": 47
        }
      ]
    },
    {
      "cell_type": "code",
      "metadata": {
        "id": "yBB66ilfj7pE",
        "colab_type": "code",
        "outputId": "c268c2a0-303f-4777-801f-b95abb003a29",
        "colab": {}
      },
      "source": [
        "# concatinating\n",
        "df2=pd.DataFrame({'one':{'e':0,'f':1},'one_tr':{'e':2}})\n",
        "df2"
      ],
      "execution_count": 0,
      "outputs": [
        {
          "output_type": "execute_result",
          "data": {
            "text/html": [
              "<div>\n",
              "<style scoped>\n",
              "    .dataframe tbody tr th:only-of-type {\n",
              "        vertical-align: middle;\n",
              "    }\n",
              "\n",
              "    .dataframe tbody tr th {\n",
              "        vertical-align: top;\n",
              "    }\n",
              "\n",
              "    .dataframe thead th {\n",
              "        text-align: right;\n",
              "    }\n",
              "</style>\n",
              "<table border=\"1\" class=\"dataframe\">\n",
              "  <thead>\n",
              "    <tr style=\"text-align: right;\">\n",
              "      <th></th>\n",
              "      <th>one</th>\n",
              "      <th>one_tr</th>\n",
              "    </tr>\n",
              "  </thead>\n",
              "  <tbody>\n",
              "    <tr>\n",
              "      <th>e</th>\n",
              "      <td>0</td>\n",
              "      <td>2.0</td>\n",
              "    </tr>\n",
              "    <tr>\n",
              "      <th>f</th>\n",
              "      <td>1</td>\n",
              "      <td>NaN</td>\n",
              "    </tr>\n",
              "  </tbody>\n",
              "</table>\n",
              "</div>"
            ],
            "text/plain": [
              "   one  one_tr\n",
              "e    0     2.0\n",
              "f    1     NaN"
            ]
          },
          "metadata": {
            "tags": []
          },
          "execution_count": 48
        }
      ]
    },
    {
      "cell_type": "code",
      "metadata": {
        "id": "DrV1X4K2j7pH",
        "colab_type": "code",
        "outputId": "c52491fd-0a65-4afe-81c8-73564dd2a181",
        "colab": {}
      },
      "source": [
        "pd.concat([df,df2], sort=False)"
      ],
      "execution_count": 0,
      "outputs": [
        {
          "output_type": "execute_result",
          "data": {
            "text/html": [
              "<div>\n",
              "<style scoped>\n",
              "    .dataframe tbody tr th:only-of-type {\n",
              "        vertical-align: middle;\n",
              "    }\n",
              "\n",
              "    .dataframe tbody tr th {\n",
              "        vertical-align: top;\n",
              "    }\n",
              "\n",
              "    .dataframe thead th {\n",
              "        text-align: right;\n",
              "    }\n",
              "</style>\n",
              "<table border=\"1\" class=\"dataframe\">\n",
              "  <thead>\n",
              "    <tr style=\"text-align: right;\">\n",
              "      <th></th>\n",
              "      <th>one</th>\n",
              "      <th>two</th>\n",
              "      <th>three</th>\n",
              "      <th>one_tr</th>\n",
              "    </tr>\n",
              "  </thead>\n",
              "  <tbody>\n",
              "    <tr>\n",
              "      <th>a</th>\n",
              "      <td>1.0</td>\n",
              "      <td>1.0</td>\n",
              "      <td>1.0</td>\n",
              "      <td>NaN</td>\n",
              "    </tr>\n",
              "    <tr>\n",
              "      <th>b</th>\n",
              "      <td>2.0</td>\n",
              "      <td>2.0</td>\n",
              "      <td>4.0</td>\n",
              "      <td>NaN</td>\n",
              "    </tr>\n",
              "    <tr>\n",
              "      <th>c</th>\n",
              "      <td>3.0</td>\n",
              "      <td>3.0</td>\n",
              "      <td>9.0</td>\n",
              "      <td>NaN</td>\n",
              "    </tr>\n",
              "    <tr>\n",
              "      <th>d</th>\n",
              "      <td>NaN</td>\n",
              "      <td>4.0</td>\n",
              "      <td>NaN</td>\n",
              "      <td>NaN</td>\n",
              "    </tr>\n",
              "    <tr>\n",
              "      <th>e</th>\n",
              "      <td>0.0</td>\n",
              "      <td>NaN</td>\n",
              "      <td>NaN</td>\n",
              "      <td>2.0</td>\n",
              "    </tr>\n",
              "    <tr>\n",
              "      <th>f</th>\n",
              "      <td>1.0</td>\n",
              "      <td>NaN</td>\n",
              "      <td>NaN</td>\n",
              "      <td>NaN</td>\n",
              "    </tr>\n",
              "  </tbody>\n",
              "</table>\n",
              "</div>"
            ],
            "text/plain": [
              "   one  two  three  one_tr\n",
              "a  1.0  1.0    1.0     NaN\n",
              "b  2.0  2.0    4.0     NaN\n",
              "c  3.0  3.0    9.0     NaN\n",
              "d  NaN  4.0    NaN     NaN\n",
              "e  0.0  NaN    NaN     2.0\n",
              "f  1.0  NaN    NaN     NaN"
            ]
          },
          "metadata": {
            "tags": []
          },
          "execution_count": 28
        }
      ]
    },
    {
      "cell_type": "markdown",
      "metadata": {
        "id": "1wllSMGwj7pJ",
        "colab_type": "text"
      },
      "source": [
        "Теперь попробуем поработать с настоящими данными"
      ]
    },
    {
      "cell_type": "markdown",
      "metadata": {
        "id": "CvSDPLDoj7pK",
        "colab_type": "text"
      },
      "source": [
        "### Скачать данные: https://www.kaggle.com/ramamet4/app-store-apple-data-set-10k-apps"
      ]
    },
    {
      "cell_type": "code",
      "metadata": {
        "scrolled": false,
        "id": "hzLuDRWXj7pL",
        "colab_type": "code",
        "colab": {}
      },
      "source": [
        "# !wget https://www.dropbox.com/s/o9uiqxb3yr6ch6k/app-store-apple-data-set-10k-apps.zip?dl=0\n",
        "# !unzip app-store-apple-data-set-10k-apps.zip?dl=0"
      ],
      "execution_count": 0,
      "outputs": []
    },
    {
      "cell_type": "code",
      "metadata": {
        "id": "iN8NYYL6j7pO",
        "colab_type": "code",
        "outputId": "de7cfe2f-a696-4907-cd5b-e4d811a48300",
        "colab": {}
      },
      "source": [
        "data = pd.read_csv('AppleStore.csv')\n",
        "\n",
        "# вывести первые 5 строк\n",
        "# data.head(10)\n",
        "# вывести последние 5 строк\n",
        "# data.tail(5)\n",
        "# вывести 5 случайных строк\n",
        "data.sample(5)"
      ],
      "execution_count": 0,
      "outputs": [
        {
          "output_type": "execute_result",
          "data": {
            "text/html": [
              "<div>\n",
              "<style scoped>\n",
              "    .dataframe tbody tr th:only-of-type {\n",
              "        vertical-align: middle;\n",
              "    }\n",
              "\n",
              "    .dataframe tbody tr th {\n",
              "        vertical-align: top;\n",
              "    }\n",
              "\n",
              "    .dataframe thead th {\n",
              "        text-align: right;\n",
              "    }\n",
              "</style>\n",
              "<table border=\"1\" class=\"dataframe\">\n",
              "  <thead>\n",
              "    <tr style=\"text-align: right;\">\n",
              "      <th></th>\n",
              "      <th>Unnamed: 0</th>\n",
              "      <th>id</th>\n",
              "      <th>track_name</th>\n",
              "      <th>size_bytes</th>\n",
              "      <th>currency</th>\n",
              "      <th>price</th>\n",
              "      <th>rating_count_tot</th>\n",
              "      <th>rating_count_ver</th>\n",
              "      <th>user_rating</th>\n",
              "      <th>user_rating_ver</th>\n",
              "      <th>ver</th>\n",
              "      <th>cont_rating</th>\n",
              "      <th>prime_genre</th>\n",
              "      <th>sup_devices.num</th>\n",
              "      <th>ipadSc_urls.num</th>\n",
              "      <th>lang.num</th>\n",
              "      <th>vpp_lic</th>\n",
              "    </tr>\n",
              "  </thead>\n",
              "  <tbody>\n",
              "    <tr>\n",
              "      <th>3946</th>\n",
              "      <td>4878</td>\n",
              "      <td>1010582800</td>\n",
              "      <td>Battlevoid: Harbinger</td>\n",
              "      <td>108232704</td>\n",
              "      <td>USD</td>\n",
              "      <td>0.99</td>\n",
              "      <td>374</td>\n",
              "      <td>68</td>\n",
              "      <td>4.5</td>\n",
              "      <td>5.0</td>\n",
              "      <td>2.0.1</td>\n",
              "      <td>12+</td>\n",
              "      <td>Games</td>\n",
              "      <td>38</td>\n",
              "      <td>5</td>\n",
              "      <td>1</td>\n",
              "      <td>1</td>\n",
              "    </tr>\n",
              "    <tr>\n",
              "      <th>6275</th>\n",
              "      <td>8991</td>\n",
              "      <td>1120991202</td>\n",
              "      <td>Zap Zombies</td>\n",
              "      <td>228882432</td>\n",
              "      <td>USD</td>\n",
              "      <td>0.00</td>\n",
              "      <td>145</td>\n",
              "      <td>20</td>\n",
              "      <td>4.0</td>\n",
              "      <td>4.5</td>\n",
              "      <td>1.8</td>\n",
              "      <td>9+</td>\n",
              "      <td>Games</td>\n",
              "      <td>38</td>\n",
              "      <td>5</td>\n",
              "      <td>3</td>\n",
              "      <td>1</td>\n",
              "    </tr>\n",
              "    <tr>\n",
              "      <th>4109</th>\n",
              "      <td>5119</td>\n",
              "      <td>1022844131</td>\n",
              "      <td>Women's Health: 1500 Kalorien Tag</td>\n",
              "      <td>70312960</td>\n",
              "      <td>USD</td>\n",
              "      <td>1.99</td>\n",
              "      <td>0</td>\n",
              "      <td>0</td>\n",
              "      <td>0.0</td>\n",
              "      <td>0.0</td>\n",
              "      <td>1.3.1</td>\n",
              "      <td>4+</td>\n",
              "      <td>Food &amp; Drink</td>\n",
              "      <td>38</td>\n",
              "      <td>0</td>\n",
              "      <td>1</td>\n",
              "      <td>1</td>\n",
              "    </tr>\n",
              "    <tr>\n",
              "      <th>4843</th>\n",
              "      <td>6268</td>\n",
              "      <td>1062825120</td>\n",
              "      <td>Frantic Architect</td>\n",
              "      <td>87051264</td>\n",
              "      <td>USD</td>\n",
              "      <td>0.00</td>\n",
              "      <td>117</td>\n",
              "      <td>52</td>\n",
              "      <td>3.5</td>\n",
              "      <td>4.0</td>\n",
              "      <td>1.0.1</td>\n",
              "      <td>4+</td>\n",
              "      <td>Games</td>\n",
              "      <td>40</td>\n",
              "      <td>4</td>\n",
              "      <td>1</td>\n",
              "      <td>1</td>\n",
              "    </tr>\n",
              "    <tr>\n",
              "      <th>2496</th>\n",
              "      <td>2941</td>\n",
              "      <td>824305459</td>\n",
              "      <td>Papa's Freezeria To Go!</td>\n",
              "      <td>53638144</td>\n",
              "      <td>USD</td>\n",
              "      <td>0.99</td>\n",
              "      <td>885</td>\n",
              "      <td>28</td>\n",
              "      <td>4.5</td>\n",
              "      <td>4.0</td>\n",
              "      <td>1.1.2</td>\n",
              "      <td>4+</td>\n",
              "      <td>Games</td>\n",
              "      <td>37</td>\n",
              "      <td>0</td>\n",
              "      <td>1</td>\n",
              "      <td>1</td>\n",
              "    </tr>\n",
              "  </tbody>\n",
              "</table>\n",
              "</div>"
            ],
            "text/plain": [
              "      Unnamed: 0          id                         track_name  size_bytes  \\\n",
              "3946        4878  1010582800              Battlevoid: Harbinger   108232704   \n",
              "6275        8991  1120991202                        Zap Zombies   228882432   \n",
              "4109        5119  1022844131  Women's Health: 1500 Kalorien Tag    70312960   \n",
              "4843        6268  1062825120                  Frantic Architect    87051264   \n",
              "2496        2941   824305459            Papa's Freezeria To Go!    53638144   \n",
              "\n",
              "     currency  price  rating_count_tot  rating_count_ver  user_rating  \\\n",
              "3946      USD   0.99               374                68          4.5   \n",
              "6275      USD   0.00               145                20          4.0   \n",
              "4109      USD   1.99                 0                 0          0.0   \n",
              "4843      USD   0.00               117                52          3.5   \n",
              "2496      USD   0.99               885                28          4.5   \n",
              "\n",
              "      user_rating_ver    ver cont_rating   prime_genre  sup_devices.num  \\\n",
              "3946              5.0  2.0.1         12+         Games               38   \n",
              "6275              4.5    1.8          9+         Games               38   \n",
              "4109              0.0  1.3.1          4+  Food & Drink               38   \n",
              "4843              4.0  1.0.1          4+         Games               40   \n",
              "2496              4.0  1.1.2          4+         Games               37   \n",
              "\n",
              "      ipadSc_urls.num  lang.num  vpp_lic  \n",
              "3946                5         1        1  \n",
              "6275                5         3        1  \n",
              "4109                0         1        1  \n",
              "4843                4         1        1  \n",
              "2496                0         1        1  "
            ]
          },
          "metadata": {
            "tags": []
          },
          "execution_count": 54
        }
      ]
    },
    {
      "cell_type": "code",
      "metadata": {
        "id": "Z1THhpJqj7pQ",
        "colab_type": "code",
        "outputId": "b84113e3-2905-4da7-cb53-bcb216694451",
        "colab": {}
      },
      "source": [
        "data = pd.read_csv('./AppleStore.csv', index_col=0)\n",
        "\n",
        "data.head()"
      ],
      "execution_count": 0,
      "outputs": [
        {
          "output_type": "execute_result",
          "data": {
            "text/html": [
              "<div>\n",
              "<style scoped>\n",
              "    .dataframe tbody tr th:only-of-type {\n",
              "        vertical-align: middle;\n",
              "    }\n",
              "\n",
              "    .dataframe tbody tr th {\n",
              "        vertical-align: top;\n",
              "    }\n",
              "\n",
              "    .dataframe thead th {\n",
              "        text-align: right;\n",
              "    }\n",
              "</style>\n",
              "<table border=\"1\" class=\"dataframe\">\n",
              "  <thead>\n",
              "    <tr style=\"text-align: right;\">\n",
              "      <th></th>\n",
              "      <th>id</th>\n",
              "      <th>track_name</th>\n",
              "      <th>size_bytes</th>\n",
              "      <th>currency</th>\n",
              "      <th>price</th>\n",
              "      <th>rating_count_tot</th>\n",
              "      <th>rating_count_ver</th>\n",
              "      <th>user_rating</th>\n",
              "      <th>user_rating_ver</th>\n",
              "      <th>ver</th>\n",
              "      <th>cont_rating</th>\n",
              "      <th>prime_genre</th>\n",
              "      <th>sup_devices.num</th>\n",
              "      <th>ipadSc_urls.num</th>\n",
              "      <th>lang.num</th>\n",
              "      <th>vpp_lic</th>\n",
              "    </tr>\n",
              "  </thead>\n",
              "  <tbody>\n",
              "    <tr>\n",
              "      <th>1</th>\n",
              "      <td>281656475</td>\n",
              "      <td>PAC-MAN Premium</td>\n",
              "      <td>100788224</td>\n",
              "      <td>USD</td>\n",
              "      <td>3.99</td>\n",
              "      <td>21292</td>\n",
              "      <td>26</td>\n",
              "      <td>4.0</td>\n",
              "      <td>4.5</td>\n",
              "      <td>6.3.5</td>\n",
              "      <td>4+</td>\n",
              "      <td>Games</td>\n",
              "      <td>38</td>\n",
              "      <td>5</td>\n",
              "      <td>10</td>\n",
              "      <td>1</td>\n",
              "    </tr>\n",
              "    <tr>\n",
              "      <th>2</th>\n",
              "      <td>281796108</td>\n",
              "      <td>Evernote - stay organized</td>\n",
              "      <td>158578688</td>\n",
              "      <td>USD</td>\n",
              "      <td>0.00</td>\n",
              "      <td>161065</td>\n",
              "      <td>26</td>\n",
              "      <td>4.0</td>\n",
              "      <td>3.5</td>\n",
              "      <td>8.2.2</td>\n",
              "      <td>4+</td>\n",
              "      <td>Productivity</td>\n",
              "      <td>37</td>\n",
              "      <td>5</td>\n",
              "      <td>23</td>\n",
              "      <td>1</td>\n",
              "    </tr>\n",
              "    <tr>\n",
              "      <th>3</th>\n",
              "      <td>281940292</td>\n",
              "      <td>WeatherBug - Local Weather, Radar, Maps, Alerts</td>\n",
              "      <td>100524032</td>\n",
              "      <td>USD</td>\n",
              "      <td>0.00</td>\n",
              "      <td>188583</td>\n",
              "      <td>2822</td>\n",
              "      <td>3.5</td>\n",
              "      <td>4.5</td>\n",
              "      <td>5.0.0</td>\n",
              "      <td>4+</td>\n",
              "      <td>Weather</td>\n",
              "      <td>37</td>\n",
              "      <td>5</td>\n",
              "      <td>3</td>\n",
              "      <td>1</td>\n",
              "    </tr>\n",
              "    <tr>\n",
              "      <th>4</th>\n",
              "      <td>282614216</td>\n",
              "      <td>eBay: Best App to Buy, Sell, Save! Online Shop...</td>\n",
              "      <td>128512000</td>\n",
              "      <td>USD</td>\n",
              "      <td>0.00</td>\n",
              "      <td>262241</td>\n",
              "      <td>649</td>\n",
              "      <td>4.0</td>\n",
              "      <td>4.5</td>\n",
              "      <td>5.10.0</td>\n",
              "      <td>12+</td>\n",
              "      <td>Shopping</td>\n",
              "      <td>37</td>\n",
              "      <td>5</td>\n",
              "      <td>9</td>\n",
              "      <td>1</td>\n",
              "    </tr>\n",
              "    <tr>\n",
              "      <th>5</th>\n",
              "      <td>282935706</td>\n",
              "      <td>Bible</td>\n",
              "      <td>92774400</td>\n",
              "      <td>USD</td>\n",
              "      <td>0.00</td>\n",
              "      <td>985920</td>\n",
              "      <td>5320</td>\n",
              "      <td>4.5</td>\n",
              "      <td>5.0</td>\n",
              "      <td>7.5.1</td>\n",
              "      <td>4+</td>\n",
              "      <td>Reference</td>\n",
              "      <td>37</td>\n",
              "      <td>5</td>\n",
              "      <td>45</td>\n",
              "      <td>1</td>\n",
              "    </tr>\n",
              "  </tbody>\n",
              "</table>\n",
              "</div>"
            ],
            "text/plain": [
              "          id                                         track_name  size_bytes  \\\n",
              "1  281656475                                    PAC-MAN Premium   100788224   \n",
              "2  281796108                          Evernote - stay organized   158578688   \n",
              "3  281940292    WeatherBug - Local Weather, Radar, Maps, Alerts   100524032   \n",
              "4  282614216  eBay: Best App to Buy, Sell, Save! Online Shop...   128512000   \n",
              "5  282935706                                              Bible    92774400   \n",
              "\n",
              "  currency  price  rating_count_tot  rating_count_ver  user_rating  \\\n",
              "1      USD   3.99             21292                26          4.0   \n",
              "2      USD   0.00            161065                26          4.0   \n",
              "3      USD   0.00            188583              2822          3.5   \n",
              "4      USD   0.00            262241               649          4.0   \n",
              "5      USD   0.00            985920              5320          4.5   \n",
              "\n",
              "   user_rating_ver     ver cont_rating   prime_genre  sup_devices.num  \\\n",
              "1              4.5   6.3.5          4+         Games               38   \n",
              "2              3.5   8.2.2          4+  Productivity               37   \n",
              "3              4.5   5.0.0          4+       Weather               37   \n",
              "4              4.5  5.10.0         12+      Shopping               37   \n",
              "5              5.0   7.5.1          4+     Reference               37   \n",
              "\n",
              "   ipadSc_urls.num  lang.num  vpp_lic  \n",
              "1                5        10        1  \n",
              "2                5        23        1  \n",
              "3                5         3        1  \n",
              "4                5         9        1  \n",
              "5                5        45        1  "
            ]
          },
          "metadata": {
            "tags": []
          },
          "execution_count": 55
        }
      ]
    },
    {
      "cell_type": "markdown",
      "metadata": {
        "id": "cX7QU66xj7pT",
        "colab_type": "text"
      },
      "source": [
        "Можно узнать размер таблицы, информацию о значениях таблицы, различные статистики по значениям"
      ]
    },
    {
      "cell_type": "code",
      "metadata": {
        "id": "vjZtySbyj7pU",
        "colab_type": "code",
        "outputId": "51b2ab40-4b3c-4043-a09b-6fbe6e36a494",
        "colab": {}
      },
      "source": [
        "data.shape"
      ],
      "execution_count": 0,
      "outputs": [
        {
          "output_type": "execute_result",
          "data": {
            "text/plain": [
              "(7197, 16)"
            ]
          },
          "metadata": {
            "tags": []
          },
          "execution_count": 56
        }
      ]
    },
    {
      "cell_type": "code",
      "metadata": {
        "scrolled": false,
        "id": "75qrGXQhj7pW",
        "colab_type": "code",
        "outputId": "6f55a984-d747-4fcd-bc01-2fddf766ac7b",
        "colab": {}
      },
      "source": [
        "data.info()"
      ],
      "execution_count": 0,
      "outputs": [
        {
          "output_type": "stream",
          "text": [
            "<class 'pandas.core.frame.DataFrame'>\n",
            "Int64Index: 7197 entries, 1 to 11097\n",
            "Data columns (total 16 columns):\n",
            "id                  7197 non-null int64\n",
            "track_name          7197 non-null object\n",
            "size_bytes          7197 non-null int64\n",
            "currency            7197 non-null object\n",
            "price               7197 non-null float64\n",
            "rating_count_tot    7197 non-null int64\n",
            "rating_count_ver    7197 non-null int64\n",
            "user_rating         7197 non-null float64\n",
            "user_rating_ver     7197 non-null float64\n",
            "ver                 7197 non-null object\n",
            "cont_rating         7197 non-null object\n",
            "prime_genre         7197 non-null object\n",
            "sup_devices.num     7197 non-null int64\n",
            "ipadSc_urls.num     7197 non-null int64\n",
            "lang.num            7197 non-null int64\n",
            "vpp_lic             7197 non-null int64\n",
            "dtypes: float64(3), int64(8), object(5)\n",
            "memory usage: 955.9+ KB\n"
          ],
          "name": "stdout"
        }
      ]
    },
    {
      "cell_type": "code",
      "metadata": {
        "id": "qSqVEgGJj7pY",
        "colab_type": "code",
        "outputId": "0c7487fc-7890-49bb-c23f-7548913816e4",
        "colab": {}
      },
      "source": [
        "data.describe()"
      ],
      "execution_count": 0,
      "outputs": [
        {
          "output_type": "execute_result",
          "data": {
            "text/html": [
              "<div>\n",
              "<style scoped>\n",
              "    .dataframe tbody tr th:only-of-type {\n",
              "        vertical-align: middle;\n",
              "    }\n",
              "\n",
              "    .dataframe tbody tr th {\n",
              "        vertical-align: top;\n",
              "    }\n",
              "\n",
              "    .dataframe thead th {\n",
              "        text-align: right;\n",
              "    }\n",
              "</style>\n",
              "<table border=\"1\" class=\"dataframe\">\n",
              "  <thead>\n",
              "    <tr style=\"text-align: right;\">\n",
              "      <th></th>\n",
              "      <th>id</th>\n",
              "      <th>size_bytes</th>\n",
              "      <th>price</th>\n",
              "      <th>rating_count_tot</th>\n",
              "      <th>rating_count_ver</th>\n",
              "      <th>user_rating</th>\n",
              "      <th>user_rating_ver</th>\n",
              "      <th>sup_devices.num</th>\n",
              "      <th>ipadSc_urls.num</th>\n",
              "      <th>lang.num</th>\n",
              "      <th>vpp_lic</th>\n",
              "    </tr>\n",
              "  </thead>\n",
              "  <tbody>\n",
              "    <tr>\n",
              "      <th>count</th>\n",
              "      <td>7.197000e+03</td>\n",
              "      <td>7.197000e+03</td>\n",
              "      <td>7197.000000</td>\n",
              "      <td>7.197000e+03</td>\n",
              "      <td>7197.000000</td>\n",
              "      <td>7197.000000</td>\n",
              "      <td>7197.000000</td>\n",
              "      <td>7197.000000</td>\n",
              "      <td>7197.000000</td>\n",
              "      <td>7197.000000</td>\n",
              "      <td>7197.000000</td>\n",
              "    </tr>\n",
              "    <tr>\n",
              "      <th>mean</th>\n",
              "      <td>8.631310e+08</td>\n",
              "      <td>1.991345e+08</td>\n",
              "      <td>1.726218</td>\n",
              "      <td>1.289291e+04</td>\n",
              "      <td>460.373906</td>\n",
              "      <td>3.526956</td>\n",
              "      <td>3.253578</td>\n",
              "      <td>37.361817</td>\n",
              "      <td>3.707100</td>\n",
              "      <td>5.434903</td>\n",
              "      <td>0.993053</td>\n",
              "    </tr>\n",
              "    <tr>\n",
              "      <th>std</th>\n",
              "      <td>2.712368e+08</td>\n",
              "      <td>3.592069e+08</td>\n",
              "      <td>5.833006</td>\n",
              "      <td>7.573941e+04</td>\n",
              "      <td>3920.455183</td>\n",
              "      <td>1.517948</td>\n",
              "      <td>1.809363</td>\n",
              "      <td>3.737715</td>\n",
              "      <td>1.986005</td>\n",
              "      <td>7.919593</td>\n",
              "      <td>0.083066</td>\n",
              "    </tr>\n",
              "    <tr>\n",
              "      <th>min</th>\n",
              "      <td>2.816565e+08</td>\n",
              "      <td>5.898240e+05</td>\n",
              "      <td>0.000000</td>\n",
              "      <td>0.000000e+00</td>\n",
              "      <td>0.000000</td>\n",
              "      <td>0.000000</td>\n",
              "      <td>0.000000</td>\n",
              "      <td>9.000000</td>\n",
              "      <td>0.000000</td>\n",
              "      <td>0.000000</td>\n",
              "      <td>0.000000</td>\n",
              "    </tr>\n",
              "    <tr>\n",
              "      <th>25%</th>\n",
              "      <td>6.000937e+08</td>\n",
              "      <td>4.692275e+07</td>\n",
              "      <td>0.000000</td>\n",
              "      <td>2.800000e+01</td>\n",
              "      <td>1.000000</td>\n",
              "      <td>3.500000</td>\n",
              "      <td>2.500000</td>\n",
              "      <td>37.000000</td>\n",
              "      <td>3.000000</td>\n",
              "      <td>1.000000</td>\n",
              "      <td>1.000000</td>\n",
              "    </tr>\n",
              "    <tr>\n",
              "      <th>50%</th>\n",
              "      <td>9.781482e+08</td>\n",
              "      <td>9.715302e+07</td>\n",
              "      <td>0.000000</td>\n",
              "      <td>3.000000e+02</td>\n",
              "      <td>23.000000</td>\n",
              "      <td>4.000000</td>\n",
              "      <td>4.000000</td>\n",
              "      <td>37.000000</td>\n",
              "      <td>5.000000</td>\n",
              "      <td>1.000000</td>\n",
              "      <td>1.000000</td>\n",
              "    </tr>\n",
              "    <tr>\n",
              "      <th>75%</th>\n",
              "      <td>1.082310e+09</td>\n",
              "      <td>1.819249e+08</td>\n",
              "      <td>1.990000</td>\n",
              "      <td>2.793000e+03</td>\n",
              "      <td>140.000000</td>\n",
              "      <td>4.500000</td>\n",
              "      <td>4.500000</td>\n",
              "      <td>38.000000</td>\n",
              "      <td>5.000000</td>\n",
              "      <td>8.000000</td>\n",
              "      <td>1.000000</td>\n",
              "    </tr>\n",
              "    <tr>\n",
              "      <th>max</th>\n",
              "      <td>1.188376e+09</td>\n",
              "      <td>4.025970e+09</td>\n",
              "      <td>299.990000</td>\n",
              "      <td>2.974676e+06</td>\n",
              "      <td>177050.000000</td>\n",
              "      <td>5.000000</td>\n",
              "      <td>5.000000</td>\n",
              "      <td>47.000000</td>\n",
              "      <td>5.000000</td>\n",
              "      <td>75.000000</td>\n",
              "      <td>1.000000</td>\n",
              "    </tr>\n",
              "  </tbody>\n",
              "</table>\n",
              "</div>"
            ],
            "text/plain": [
              "                 id    size_bytes        price  rating_count_tot  \\\n",
              "count  7.197000e+03  7.197000e+03  7197.000000      7.197000e+03   \n",
              "mean   8.631310e+08  1.991345e+08     1.726218      1.289291e+04   \n",
              "std    2.712368e+08  3.592069e+08     5.833006      7.573941e+04   \n",
              "min    2.816565e+08  5.898240e+05     0.000000      0.000000e+00   \n",
              "25%    6.000937e+08  4.692275e+07     0.000000      2.800000e+01   \n",
              "50%    9.781482e+08  9.715302e+07     0.000000      3.000000e+02   \n",
              "75%    1.082310e+09  1.819249e+08     1.990000      2.793000e+03   \n",
              "max    1.188376e+09  4.025970e+09   299.990000      2.974676e+06   \n",
              "\n",
              "       rating_count_ver  user_rating  user_rating_ver  sup_devices.num  \\\n",
              "count       7197.000000  7197.000000      7197.000000      7197.000000   \n",
              "mean         460.373906     3.526956         3.253578        37.361817   \n",
              "std         3920.455183     1.517948         1.809363         3.737715   \n",
              "min            0.000000     0.000000         0.000000         9.000000   \n",
              "25%            1.000000     3.500000         2.500000        37.000000   \n",
              "50%           23.000000     4.000000         4.000000        37.000000   \n",
              "75%          140.000000     4.500000         4.500000        38.000000   \n",
              "max       177050.000000     5.000000         5.000000        47.000000   \n",
              "\n",
              "       ipadSc_urls.num     lang.num      vpp_lic  \n",
              "count      7197.000000  7197.000000  7197.000000  \n",
              "mean          3.707100     5.434903     0.993053  \n",
              "std           1.986005     7.919593     0.083066  \n",
              "min           0.000000     0.000000     0.000000  \n",
              "25%           3.000000     1.000000     1.000000  \n",
              "50%           5.000000     1.000000     1.000000  \n",
              "75%           5.000000     8.000000     1.000000  \n",
              "max           5.000000    75.000000     1.000000  "
            ]
          },
          "metadata": {
            "tags": []
          },
          "execution_count": 59
        }
      ]
    },
    {
      "cell_type": "markdown",
      "metadata": {
        "id": "G7MbBBg0j7pc",
        "colab_type": "text"
      },
      "source": [
        "Чтобы посмотреть, какие колонки есть в таблице, можно воспользоваться `columns`"
      ]
    },
    {
      "cell_type": "code",
      "metadata": {
        "id": "7Mx_KFTjj7pc",
        "colab_type": "code",
        "outputId": "068f963d-9c1e-4abd-cdef-eeb157c0b179",
        "colab": {}
      },
      "source": [
        "data.columns"
      ],
      "execution_count": 0,
      "outputs": [
        {
          "output_type": "execute_result",
          "data": {
            "text/plain": [
              "Index(['id', 'track_name', 'size_bytes', 'currency', 'price',\n",
              "       'rating_count_tot', 'rating_count_ver', 'user_rating',\n",
              "       'user_rating_ver', 'ver', 'cont_rating', 'prime_genre',\n",
              "       'sup_devices.num', 'ipadSc_urls.num', 'lang.num', 'vpp_lic'],\n",
              "      dtype='object')"
            ]
          },
          "metadata": {
            "tags": []
          },
          "execution_count": 60
        }
      ]
    },
    {
      "cell_type": "markdown",
      "metadata": {
        "id": "nD7_OGhNj7pg",
        "colab_type": "text"
      },
      "source": [
        "Метод `values` преобразует `pd.DataFrame` к `np.ndarray`"
      ]
    },
    {
      "cell_type": "code",
      "metadata": {
        "id": "LsUT8BSnj7pg",
        "colab_type": "code",
        "outputId": "89f99b5e-47b1-4b66-b7af-3eddd4f28847",
        "colab": {}
      },
      "source": [
        "data.values"
      ],
      "execution_count": 0,
      "outputs": [
        {
          "output_type": "execute_result",
          "data": {
            "text/plain": [
              "array([[281656475, 'PAC-MAN Premium', 100788224, ..., 5, 10, 1],\n",
              "       [281796108, 'Evernote - stay organized', 158578688, ..., 5, 23, 1],\n",
              "       [281940292, 'WeatherBug - Local Weather, Radar, Maps, Alerts',\n",
              "        100524032, ..., 5, 3, 1],\n",
              "       ...,\n",
              "       [1187779532, 'Bret Michaels Emojis + Lyric Keyboard', 111322112,\n",
              "        ..., 1, 1, 1],\n",
              "       [1187838770, 'VR Roller Coaster World - Virtual Reality',\n",
              "        97235968, ..., 0, 2, 1],\n",
              "       [1188375727, 'Escape the Sweet Shop Series', 90898432, ..., 0, 2,\n",
              "        1]], dtype=object)"
            ]
          },
          "metadata": {
            "tags": []
          },
          "execution_count": 62
        }
      ]
    },
    {
      "cell_type": "code",
      "metadata": {
        "id": "5rjvsp_Tj7pj",
        "colab_type": "code",
        "outputId": "0e821185-b90e-471c-b3e9-9fb5cb8f0413",
        "colab": {}
      },
      "source": [
        "type(data.values)"
      ],
      "execution_count": 0,
      "outputs": [
        {
          "output_type": "execute_result",
          "data": {
            "text/plain": [
              "numpy.ndarray"
            ]
          },
          "metadata": {
            "tags": []
          },
          "execution_count": 63
        }
      ]
    },
    {
      "cell_type": "code",
      "metadata": {
        "id": "hgCzm_E-j7pl",
        "colab_type": "code",
        "outputId": "5b0261b1-c3cd-4774-dc06-4476af1f2f3b",
        "colab": {}
      },
      "source": [
        "data.values[:,0]"
      ],
      "execution_count": 0,
      "outputs": [
        {
          "output_type": "execute_result",
          "data": {
            "text/plain": [
              "array([281656475, 281796108, 281940292, ..., 1187779532, 1187838770,\n",
              "       1188375727], dtype=object)"
            ]
          },
          "metadata": {
            "tags": []
          },
          "execution_count": 64
        }
      ]
    },
    {
      "cell_type": "markdown",
      "metadata": {
        "id": "MT3G-eRMj7po",
        "colab_type": "text"
      },
      "source": [
        "Более продвинутое индексирование по таблице: **loc** и **iloc** "
      ]
    },
    {
      "cell_type": "markdown",
      "metadata": {
        "id": "iKudC8d5j7pp",
        "colab_type": "text"
      },
      "source": [
        "`iloc` - index-based selection"
      ]
    },
    {
      "cell_type": "code",
      "metadata": {
        "id": "uqUFHL62j7pq",
        "colab_type": "code",
        "outputId": "919b6b9c-61a6-4381-a3ab-ed92b82eb4c3",
        "colab": {}
      },
      "source": [
        "data.iloc[0]"
      ],
      "execution_count": 0,
      "outputs": [
        {
          "output_type": "execute_result",
          "data": {
            "text/plain": [
              "id                        281656475\n",
              "track_name          PAC-MAN Premium\n",
              "size_bytes                100788224\n",
              "currency                        USD\n",
              "price                          3.99\n",
              "rating_count_tot              21292\n",
              "rating_count_ver                 26\n",
              "user_rating                       4\n",
              "user_rating_ver                 4.5\n",
              "ver                           6.3.5\n",
              "cont_rating                      4+\n",
              "prime_genre                   Games\n",
              "sup_devices.num                  38\n",
              "ipadSc_urls.num                   5\n",
              "lang.num                         10\n",
              "vpp_lic                           1\n",
              "Name: 1, dtype: object"
            ]
          },
          "metadata": {
            "tags": []
          },
          "execution_count": 66
        }
      ]
    },
    {
      "cell_type": "code",
      "metadata": {
        "id": "_L9e1k-Uj7ps",
        "colab_type": "code",
        "outputId": "7f917215-7a43-4233-ae51-57f2a902e3c4",
        "colab": {}
      },
      "source": [
        "data.iloc[1:3, 1:3]"
      ],
      "execution_count": 0,
      "outputs": [
        {
          "output_type": "execute_result",
          "data": {
            "text/html": [
              "<div>\n",
              "<style scoped>\n",
              "    .dataframe tbody tr th:only-of-type {\n",
              "        vertical-align: middle;\n",
              "    }\n",
              "\n",
              "    .dataframe tbody tr th {\n",
              "        vertical-align: top;\n",
              "    }\n",
              "\n",
              "    .dataframe thead th {\n",
              "        text-align: right;\n",
              "    }\n",
              "</style>\n",
              "<table border=\"1\" class=\"dataframe\">\n",
              "  <thead>\n",
              "    <tr style=\"text-align: right;\">\n",
              "      <th></th>\n",
              "      <th>track_name</th>\n",
              "      <th>size_bytes</th>\n",
              "    </tr>\n",
              "  </thead>\n",
              "  <tbody>\n",
              "    <tr>\n",
              "      <th>2</th>\n",
              "      <td>Evernote - stay organized</td>\n",
              "      <td>158578688</td>\n",
              "    </tr>\n",
              "    <tr>\n",
              "      <th>3</th>\n",
              "      <td>WeatherBug - Local Weather, Radar, Maps, Alerts</td>\n",
              "      <td>100524032</td>\n",
              "    </tr>\n",
              "  </tbody>\n",
              "</table>\n",
              "</div>"
            ],
            "text/plain": [
              "                                        track_name  size_bytes\n",
              "2                        Evernote - stay organized   158578688\n",
              "3  WeatherBug - Local Weather, Radar, Maps, Alerts   100524032"
            ]
          },
          "metadata": {
            "tags": []
          },
          "execution_count": 68
        }
      ]
    },
    {
      "cell_type": "code",
      "metadata": {
        "id": "k4lvPo94j7pv",
        "colab_type": "code",
        "outputId": "f159e182-b221-4a5a-8c1b-a9a69049e681",
        "colab": {}
      },
      "source": [
        "data.iloc[[0,1,2], 0]"
      ],
      "execution_count": 0,
      "outputs": [
        {
          "output_type": "execute_result",
          "data": {
            "text/plain": [
              "1    281656475\n",
              "2    281796108\n",
              "3    281940292\n",
              "Name: id, dtype: int64"
            ]
          },
          "metadata": {
            "tags": []
          },
          "execution_count": 69
        }
      ]
    },
    {
      "cell_type": "code",
      "metadata": {
        "id": "qY43_Lnmj7px",
        "colab_type": "code",
        "outputId": "6e7d422f-ced0-4e37-e552-e57204b59708",
        "colab": {}
      },
      "source": [
        "data.iloc[-1, :]"
      ],
      "execution_count": 0,
      "outputs": [
        {
          "output_type": "execute_result",
          "data": {
            "text/plain": [
              "id                                    1188375727\n",
              "track_name          Escape the Sweet Shop Series\n",
              "size_bytes                              90898432\n",
              "currency                                     USD\n",
              "price                                          0\n",
              "rating_count_tot                               3\n",
              "rating_count_ver                               3\n",
              "user_rating                                    5\n",
              "user_rating_ver                                5\n",
              "ver                                          1.0\n",
              "cont_rating                                   4+\n",
              "prime_genre                                Games\n",
              "sup_devices.num                               40\n",
              "ipadSc_urls.num                                0\n",
              "lang.num                                       2\n",
              "vpp_lic                                        1\n",
              "Name: 11097, dtype: object"
            ]
          },
          "metadata": {
            "tags": []
          },
          "execution_count": 70
        }
      ]
    },
    {
      "cell_type": "markdown",
      "metadata": {
        "id": "-6R5_Z_4j7pz",
        "colab_type": "text"
      },
      "source": [
        "`loc` - label-based selection"
      ]
    },
    {
      "cell_type": "code",
      "metadata": {
        "id": "vLd-U5i2j7pz",
        "colab_type": "code",
        "outputId": "88235eab-89ac-4ee6-826b-a97ddf2aa1c9",
        "colab": {}
      },
      "source": [
        "# первое значение - index, второе - имя колонки\n",
        "data.loc[1, ['id', 'track_name', 'price']]"
      ],
      "execution_count": 0,
      "outputs": [
        {
          "output_type": "execute_result",
          "data": {
            "text/plain": [
              "id                  281656475\n",
              "track_name    PAC-MAN Premium\n",
              "price                    3.99\n",
              "Name: 1, dtype: object"
            ]
          },
          "metadata": {
            "tags": []
          },
          "execution_count": 73
        }
      ]
    },
    {
      "cell_type": "markdown",
      "metadata": {
        "id": "UNrtlrBBj7p2",
        "colab_type": "text"
      },
      "source": [
        "**Choosing between loc and iloc**\n",
        "\n",
        "When choosing or transitioning between loc and iloc, there is one \"gotcha\" worth keeping in mind, which is that the two methods use slightly different indexing schemes.\n",
        "\n",
        "`iloc` uses the Python stdlib indexing scheme, where the first element of the range is included and the last one excluded. So 0:10 will select entries 0,...,9. loc, meanwhile, indexes inclusively. So 0:10 will select entries 0,...,10.\n",
        "\n",
        "Why the change? Remember that loc can index any stdlib type: strings, for example. If we have a DataFrame with index values `Apples, ..., Potatoes, ...,` and we want to select \"all the alphabetical fruit choices between Apples and Potatoes\", then it's a lot more convenient to index `df.loc['Apples':'Potatoes']` than it is to index something like `df.loc['Apples', 'Potatoet']` (t coming after s in the alphabet).\n",
        "\n",
        "This is particularly confusing when the DataFrame index is a simple numerical list, e.g. 0,...,1000. In this case `df.iloc[0:1000]` will return 1000 entries, while `df.loc[0:1000]` return 1001 of them! To get 1000 elements using `loc`, you will need to go one lower and ask for `df.iloc[0:999]`.\n",
        "\n",
        "Otherwise, the semantics of using `loc` are the same as those for `iloc`."
      ]
    },
    {
      "cell_type": "markdown",
      "metadata": {
        "id": "gCHHMjzGj7p4",
        "colab_type": "text"
      },
      "source": [
        "`loc` может принимать булевы выражения (так же, как и в случае с `pd.Series`)\n",
        "\n",
        "Еще один полезный метод - `isin`"
      ]
    },
    {
      "cell_type": "code",
      "metadata": {
        "id": "V2uj9G3Zj7p5",
        "colab_type": "code",
        "outputId": "ad51f66a-32dd-4673-93c3-9f6ed9453e2d",
        "colab": {}
      },
      "source": [
        "data.loc[data.prime_genre.isin(['Games', 'Shopping'])].head()"
      ],
      "execution_count": 0,
      "outputs": [
        {
          "output_type": "execute_result",
          "data": {
            "text/html": [
              "<div>\n",
              "<style scoped>\n",
              "    .dataframe tbody tr th:only-of-type {\n",
              "        vertical-align: middle;\n",
              "    }\n",
              "\n",
              "    .dataframe tbody tr th {\n",
              "        vertical-align: top;\n",
              "    }\n",
              "\n",
              "    .dataframe thead th {\n",
              "        text-align: right;\n",
              "    }\n",
              "</style>\n",
              "<table border=\"1\" class=\"dataframe\">\n",
              "  <thead>\n",
              "    <tr style=\"text-align: right;\">\n",
              "      <th></th>\n",
              "      <th>id</th>\n",
              "      <th>track_name</th>\n",
              "      <th>size_bytes</th>\n",
              "      <th>currency</th>\n",
              "      <th>price</th>\n",
              "      <th>rating_count_tot</th>\n",
              "      <th>rating_count_ver</th>\n",
              "      <th>user_rating</th>\n",
              "      <th>user_rating_ver</th>\n",
              "      <th>ver</th>\n",
              "      <th>cont_rating</th>\n",
              "      <th>prime_genre</th>\n",
              "      <th>sup_devices.num</th>\n",
              "      <th>ipadSc_urls.num</th>\n",
              "      <th>lang.num</th>\n",
              "      <th>vpp_lic</th>\n",
              "    </tr>\n",
              "  </thead>\n",
              "  <tbody>\n",
              "    <tr>\n",
              "      <th>1</th>\n",
              "      <td>281656475</td>\n",
              "      <td>PAC-MAN Premium</td>\n",
              "      <td>100788224</td>\n",
              "      <td>USD</td>\n",
              "      <td>3.99</td>\n",
              "      <td>21292</td>\n",
              "      <td>26</td>\n",
              "      <td>4.0</td>\n",
              "      <td>4.5</td>\n",
              "      <td>6.3.5</td>\n",
              "      <td>4+</td>\n",
              "      <td>Games</td>\n",
              "      <td>38</td>\n",
              "      <td>5</td>\n",
              "      <td>10</td>\n",
              "      <td>1</td>\n",
              "    </tr>\n",
              "    <tr>\n",
              "      <th>4</th>\n",
              "      <td>282614216</td>\n",
              "      <td>eBay: Best App to Buy, Sell, Save! Online Shop...</td>\n",
              "      <td>128512000</td>\n",
              "      <td>USD</td>\n",
              "      <td>0.00</td>\n",
              "      <td>262241</td>\n",
              "      <td>649</td>\n",
              "      <td>4.0</td>\n",
              "      <td>4.5</td>\n",
              "      <td>5.10.0</td>\n",
              "      <td>12+</td>\n",
              "      <td>Shopping</td>\n",
              "      <td>37</td>\n",
              "      <td>5</td>\n",
              "      <td>9</td>\n",
              "      <td>1</td>\n",
              "    </tr>\n",
              "    <tr>\n",
              "      <th>6</th>\n",
              "      <td>283619399</td>\n",
              "      <td>Shanghai Mahjong</td>\n",
              "      <td>10485713</td>\n",
              "      <td>USD</td>\n",
              "      <td>0.99</td>\n",
              "      <td>8253</td>\n",
              "      <td>5516</td>\n",
              "      <td>4.0</td>\n",
              "      <td>4.0</td>\n",
              "      <td>1.8</td>\n",
              "      <td>4+</td>\n",
              "      <td>Games</td>\n",
              "      <td>47</td>\n",
              "      <td>5</td>\n",
              "      <td>1</td>\n",
              "      <td>1</td>\n",
              "    </tr>\n",
              "    <tr>\n",
              "      <th>10</th>\n",
              "      <td>284736660</td>\n",
              "      <td>Ms. PAC-MAN</td>\n",
              "      <td>70023168</td>\n",
              "      <td>USD</td>\n",
              "      <td>3.99</td>\n",
              "      <td>7885</td>\n",
              "      <td>40</td>\n",
              "      <td>4.0</td>\n",
              "      <td>4.0</td>\n",
              "      <td>4.0.4</td>\n",
              "      <td>4+</td>\n",
              "      <td>Games</td>\n",
              "      <td>38</td>\n",
              "      <td>0</td>\n",
              "      <td>10</td>\n",
              "      <td>1</td>\n",
              "    </tr>\n",
              "    <tr>\n",
              "      <th>11</th>\n",
              "      <td>284791396</td>\n",
              "      <td>Solitaire by MobilityWare</td>\n",
              "      <td>49618944</td>\n",
              "      <td>USD</td>\n",
              "      <td>4.99</td>\n",
              "      <td>76720</td>\n",
              "      <td>4017</td>\n",
              "      <td>4.5</td>\n",
              "      <td>4.5</td>\n",
              "      <td>4.10.1</td>\n",
              "      <td>4+</td>\n",
              "      <td>Games</td>\n",
              "      <td>38</td>\n",
              "      <td>4</td>\n",
              "      <td>11</td>\n",
              "      <td>1</td>\n",
              "    </tr>\n",
              "  </tbody>\n",
              "</table>\n",
              "</div>"
            ],
            "text/plain": [
              "           id                                         track_name  size_bytes  \\\n",
              "1   281656475                                    PAC-MAN Premium   100788224   \n",
              "4   282614216  eBay: Best App to Buy, Sell, Save! Online Shop...   128512000   \n",
              "6   283619399                                   Shanghai Mahjong    10485713   \n",
              "10  284736660                                        Ms. PAC-MAN    70023168   \n",
              "11  284791396                          Solitaire by MobilityWare    49618944   \n",
              "\n",
              "   currency  price  rating_count_tot  rating_count_ver  user_rating  \\\n",
              "1       USD   3.99             21292                26          4.0   \n",
              "4       USD   0.00            262241               649          4.0   \n",
              "6       USD   0.99              8253              5516          4.0   \n",
              "10      USD   3.99              7885                40          4.0   \n",
              "11      USD   4.99             76720              4017          4.5   \n",
              "\n",
              "    user_rating_ver     ver cont_rating prime_genre  sup_devices.num  \\\n",
              "1               4.5   6.3.5          4+       Games               38   \n",
              "4               4.5  5.10.0         12+    Shopping               37   \n",
              "6               4.0     1.8          4+       Games               47   \n",
              "10              4.0   4.0.4          4+       Games               38   \n",
              "11              4.5  4.10.1          4+       Games               38   \n",
              "\n",
              "    ipadSc_urls.num  lang.num  vpp_lic  \n",
              "1                 5        10        1  \n",
              "4                 5         9        1  \n",
              "6                 5         1        1  \n",
              "10                0        10        1  \n",
              "11                4        11        1  "
            ]
          },
          "metadata": {
            "tags": []
          },
          "execution_count": 75
        }
      ]
    },
    {
      "cell_type": "markdown",
      "metadata": {
        "id": "9_a20-p6j7p8",
        "colab_type": "text"
      },
      "source": [
        "*Задания*"
      ]
    },
    {
      "cell_type": "markdown",
      "metadata": {
        "id": "omvjLfkzj7p8",
        "colab_type": "text"
      },
      "source": [
        "---"
      ]
    },
    {
      "cell_type": "markdown",
      "metadata": {
        "id": "Tp9pRej5j7p9",
        "colab_type": "text"
      },
      "source": [
        "Получите ответ на следующие вопросы (с помощью pandas):\n",
        "\n",
        "1). Сколько приложений с максимальным рейтингом (`user_rating`)?\n",
        "\n",
        "2). Сколько всего жанров (`prime_genre`) и какие они? (Hint: `np.unique`)  \n",
        "\n",
        "3). Сколько суммарно байт (`size_bytes`) весят все приложения жанра Finance?  \n",
        "\n",
        "4). Сколько всего бесплатных приложений, у которых рейтинг юзеров больше трёх?  \n",
        "\n",
        "5). Есть ли приложения, которые стоят больше 100 долларов?\n",
        "\n",
        "6). Сколько приложений из жанра `Games` или `Shopping`, которые стоят дороже 10 USD или меньше 2 USD, но не являются бесплатными?"
      ]
    },
    {
      "cell_type": "markdown",
      "metadata": {
        "id": "KNTmRlJUj7p9",
        "colab_type": "text"
      },
      "source": [
        "---"
      ]
    },
    {
      "cell_type": "markdown",
      "metadata": {
        "id": "KF4BWEtNj7p-",
        "colab_type": "text"
      },
      "source": [
        "Мы разобрали только малую часть работы с `pandas`. Это действительно мощный инструмент для работы с данными и его возможности обширны\n",
        "\n",
        "Из того, что мы не разобрали, стоит обратить внимание на следующие вещи:\n",
        "\n",
        "* Работа с пропущенными значениями (`fillna`)\n",
        "* Объединение таблиц (`join`)\n",
        "* Применение к данным функций (`apply`, `applymap`)\n",
        "* так же стоит посмотреть, как работать с базами данных в `pandas`"
      ]
    },
    {
      "cell_type": "markdown",
      "metadata": {
        "id": "pjCNQzwHj7p-",
        "colab_type": "text"
      },
      "source": [
        "Список полезных ссылок:\n",
        "\n",
        "* Официальные туториалы: https://pandas.pydata.org/pandas-docs/stable/getting_started/tutorials.html\n",
        "\n",
        "* Официальная документация: https://pandas.pydata.org/pandas-docs/stable/\n",
        "\n",
        "* Статья на Хабре от OpenDataScience сообщества: https://habr.com/company/ods/blog/322626/\n",
        "\n",
        "* Подробный гайд: https://media.readthedocs.org/pdf/pandasguide/latest/pandasguide.pdf\n",
        "\n",
        "* Небольшой курс от kaggle: https://www.kaggle.com/learn/pandas"
      ]
    },
    {
      "cell_type": "markdown",
      "metadata": {
        "id": "PBLzFs5Wj7p-",
        "colab_type": "text"
      },
      "source": [
        "Главное в работе с новыми библиотеками -- не бояться тыкать в разные функции, смотреть типы возвращаемых объектов и активно пользоваться Яндексом, читать документацию на официальном сайте (она довольно хорошо написана), а ещё лучше понимать всё из docstring'а (`Shift+Tab` при нахождении курсора внутри скобок функции)."
      ]
    }
  ]
}